{
 "cells": [
  {
   "cell_type": "code",
   "execution_count": 1,
   "id": "a7334888",
   "metadata": {},
   "outputs": [],
   "source": [
    "import cv2\n",
    "import torch\n",
    "from detectron2.data import MetadataCatalog\n",
    "from detectron2 import model_zoo\n",
    "from detectron2.engine import DefaultPredictor\n",
    "from detectron2.config import get_cfg\n",
    "from detectron2.utils.visualizer import Visualizer\n",
    "from detectron2.utils.visualizer import ColorMode"
   ]
  },
  {
   "cell_type": "code",
   "execution_count": 2,
   "id": "786ad9d9",
   "metadata": {},
   "outputs": [],
   "source": [
    "watermarks_metadata = MetadataCatalog.get(\"watermarks_train\")\n",
    "\n",
    "cfg = get_cfg()\n",
    "cfg.merge_from_file(model_zoo.get_config_file(\"COCO-InstanceSegmentation/mask_rcnn_X_101_32x8d_FPN_3x.yaml\"))\n",
    "cfg.MODEL.ROI_HEADS.NUM_CLASSES = 2\n",
    "cfg.MODEL.DEVICE = \"cuda\"\n",
    "cfg.MODEL.WEIGHTS = 'models/watermark/detectron2.pth'\n",
    "cfg.MODEL.ROI_HEADS.SCORE_THRESH_TEST = 0.5\n",
    "predictor = DefaultPredictor(cfg)\n",
    "\n",
    "im = cv2.imread('dataset/benchmarkv2/clean_Img_001301.jpg')\n",
    "output = predictor(im)"
   ]
  },
  {
   "cell_type": "code",
   "execution_count": 24,
   "id": "c4ae9dce",
   "metadata": {},
   "outputs": [
    {
     "data": {
      "text/plain": [
       "tensor([[False, False, False,  ..., False, False, False],\n",
       "        [False, False, False,  ..., False, False, False],\n",
       "        [False, False, False,  ..., False, False, False],\n",
       "        ...,\n",
       "        [False, False, False,  ..., False, False, False],\n",
       "        [False, False, False,  ..., False, False, False],\n",
       "        [False, False, False,  ..., False, False, False]], device='cuda:0')"
      ]
     },
     "execution_count": 24,
     "metadata": {},
     "output_type": "execute_result"
    }
   ],
   "source": [
    "output['instances'].pred_masks[0]"
   ]
  },
  {
   "cell_type": "code",
   "execution_count": 27,
   "id": "755ca333",
   "metadata": {},
   "outputs": [],
   "source": [
    "lbl = output['instances'].pred_masks[0].cpu().numpy().reshape(-1)\n",
    "target = output['instances'].pred_masks[1].cpu().numpy().reshape(-1)"
   ]
  },
  {
   "cell_type": "code",
   "execution_count": 34,
   "id": "2d8a65aa",
   "metadata": {},
   "outputs": [
    {
     "data": {
      "text/plain": [
       "(318888, 318888)"
      ]
     },
     "execution_count": 34,
     "metadata": {},
     "output_type": "execute_result"
    }
   ],
   "source": [
    "len(lbl), len(target)"
   ]
  },
  {
   "cell_type": "code",
   "execution_count": 32,
   "id": "a0f7c13d",
   "metadata": {},
   "outputs": [
    {
     "data": {
      "text/plain": [
       "1109"
      ]
     },
     "execution_count": 32,
     "metadata": {},
     "output_type": "execute_result"
    }
   ],
   "source": [
    "import numpy as np\n",
    "c = np.logical_and(lbl, lbl)\n",
    "c.sum()"
   ]
  },
  {
   "cell_type": "code",
   "execution_count": 38,
   "id": "4d29b724",
   "metadata": {},
   "outputs": [
    {
     "data": {
      "text/plain": [
       "numpy.ndarray"
      ]
     },
     "execution_count": 38,
     "metadata": {},
     "output_type": "execute_result"
    }
   ],
   "source": [
    "type(c)"
   ]
  },
  {
   "cell_type": "code",
   "execution_count": null,
   "id": "2ca3917b",
   "metadata": {},
   "outputs": [],
   "source": []
  },
  {
   "cell_type": "code",
   "execution_count": null,
   "id": "1a4ebf71",
   "metadata": {},
   "outputs": [],
   "source": []
  },
  {
   "cell_type": "markdown",
   "id": "79cb20f6",
   "metadata": {},
   "source": [
    "Other params:\n",
    "\n",
    "face_foregroun_background_res: OpenCV Grayscale (3-channel) Mask (618, 516, 3)\n",
    "\n",
    "background_check_result: {\"status\": status, \"remarks\": remarks}\n",
    "\n",
    "face_highlight_res: {\"res_img_cv\": v.get_image()[:, :, ::-1], \"res_highlight_mask\": bin_mask}\n",
    "    bin_mask: np.zeros((h, w)) (618, 516)"
   ]
  },
  {
   "cell_type": "markdown",
   "id": "73ce0067",
   "metadata": {},
   "source": [
    "If ```background_check_result[\"status\"] == 0``` means background not white => use face_foregroun_background_res to remove all instances in background"
   ]
  },
  {
   "cell_type": "code",
   "execution_count": null,
   "id": "7e1d7337",
   "metadata": {},
   "outputs": [],
   "source": []
  },
  {
   "cell_type": "code",
   "execution_count": 54,
   "id": "6d4565e3",
   "metadata": {},
   "outputs": [],
   "source": [
    "idxofClass = []"
   ]
  },
  {
   "cell_type": "code",
   "execution_count": 56,
   "id": "90f33f86",
   "metadata": {},
   "outputs": [],
   "source": [
    "classes = output['instances'].pred_classes[idxofClass]\n",
    "scores = output['instances'].scores[idxofClass]\n",
    "boxes = output['instances'].pred_boxes[idxofClass]\n",
    "masks = output['instances'].pred_masks[idxofClass]"
   ]
  },
  {
   "cell_type": "code",
   "execution_count": 58,
   "id": "e44b5488",
   "metadata": {},
   "outputs": [],
   "source": [
    "import detectron2\n",
    "\n",
    "obj = detectron2.structures.Instances(image_size=(480, 640))\n",
    "\n",
    "obj.set('pred_classes', classes)\n",
    "obj.set('scores', scores)\n",
    "obj.set('pred_boxes', boxes)\n",
    "obj.set('pred_masks', masks)"
   ]
  },
  {
   "cell_type": "code",
   "execution_count": null,
   "id": "7c561b37",
   "metadata": {},
   "outputs": [],
   "source": []
  },
  {
   "cell_type": "markdown",
   "id": "681dc493",
   "metadata": {},
   "source": [
    "Use instances in face_highlight_res[\"res_highlight_mask\"] to remove instances that have overlap"
   ]
  },
  {
   "cell_type": "code",
   "execution_count": null,
   "id": "e5a16d9f",
   "metadata": {},
   "outputs": [],
   "source": []
  },
  {
   "cell_type": "code",
   "execution_count": null,
   "id": "b07e03f7",
   "metadata": {},
   "outputs": [],
   "source": []
  },
  {
   "cell_type": "code",
   "execution_count": null,
   "id": "92cb01f9",
   "metadata": {},
   "outputs": [],
   "source": [
    "v = Visualizer(im[:, :, ::-1],\n",
    "                metadata=watermarks_metadata,\n",
    "                scale=1,\n",
    "                instance_mode=ColorMode.IMAGE_BW  # remove the colors of unsegmented pixels\n",
    "                )\n",
    "v = v.draw_instance_predictions(output[\"instances\"].to(\"cpu\"))\n",
    "\n",
    "cv2.imshow(\"Watermark Check\", cv2.cvtColor(v.get_image()[:, :, ::-1], cv2.COLOR_BGR2RGB))\n",
    "cv2.waitKey(0)"
   ]
  },
  {
   "cell_type": "code",
   "execution_count": null,
   "id": "81c74fb7",
   "metadata": {},
   "outputs": [],
   "source": []
  },
  {
   "cell_type": "code",
   "execution_count": null,
   "id": "3728d4b7",
   "metadata": {},
   "outputs": [],
   "source": []
  },
  {
   "cell_type": "code",
   "execution_count": null,
   "id": "c785afd0",
   "metadata": {},
   "outputs": [],
   "source": []
  }
 ],
 "metadata": {
  "kernelspec": {
   "display_name": "watermark",
   "language": "python",
   "name": "watermark"
  },
  "language_info": {
   "codemirror_mode": {
    "name": "ipython",
    "version": 3
   },
   "file_extension": ".py",
   "mimetype": "text/x-python",
   "name": "python",
   "nbconvert_exporter": "python",
   "pygments_lexer": "ipython3",
   "version": "3.8.10"
  }
 },
 "nbformat": 4,
 "nbformat_minor": 5
}
