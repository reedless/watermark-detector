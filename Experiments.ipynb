{
 "cells": [
  {
   "cell_type": "code",
   "execution_count": 1,
   "id": "a7334888",
   "metadata": {},
   "outputs": [],
   "source": [
    "import cv2\n",
    "import torch\n",
    "from detectron2.data import MetadataCatalog\n",
    "from detectron2 import model_zoo\n",
    "from detectron2.engine import DefaultPredictor\n",
    "from detectron2.config import get_cfg\n",
    "from detectron2.utils.visualizer import Visualizer\n",
    "from detectron2.utils.visualizer import ColorMode"
   ]
  },
  {
   "cell_type": "code",
   "execution_count": 2,
   "id": "786ad9d9",
   "metadata": {},
   "outputs": [],
   "source": [
    "watermarks_metadata = MetadataCatalog.get(\"watermarks_train\")\n",
    "\n",
    "cfg = get_cfg()\n",
    "cfg.merge_from_file(model_zoo.get_config_file(\"COCO-InstanceSegmentation/mask_rcnn_X_101_32x8d_FPN_3x.yaml\"))\n",
    "cfg.MODEL.ROI_HEADS.NUM_CLASSES = 2\n",
    "cfg.MODEL.DEVICE = \"cuda\"\n",
    "cfg.MODEL.WEIGHTS = 'models/watermark/detectron2.pth'\n",
    "cfg.MODEL.ROI_HEADS.SCORE_THRESH_TEST = 0.5\n",
    "predictor = DefaultPredictor(cfg)\n",
    "\n",
    "im = cv2.imread('dataset/benchmarkv2/clean_Img_001301.jpg')\n",
    "output = predictor(im)"
   ]
  },
  {
   "cell_type": "code",
   "execution_count": 24,
   "id": "c4ae9dce",
   "metadata": {},
   "outputs": [
    {
     "data": {
      "text/plain": [
       "tensor([[False, False, False,  ..., False, False, False],\n",
       "        [False, False, False,  ..., False, False, False],\n",
       "        [False, False, False,  ..., False, False, False],\n",
       "        ...,\n",
       "        [False, False, False,  ..., False, False, False],\n",
       "        [False, False, False,  ..., False, False, False],\n",
       "        [False, False, False,  ..., False, False, False]], device='cuda:0')"
      ]
     },
     "execution_count": 24,
     "metadata": {},
     "output_type": "execute_result"
    }
   ],
   "source": [
    "output['instances'].pred_masks[0]"
   ]
  },
  {
   "cell_type": "code",
   "execution_count": 27,
   "id": "92afe326",
   "metadata": {},
   "outputs": [],
   "source": [
    "lbl = output['instances'].pred_masks[0].cpu().numpy().reshape(-1)\n",
    "target = output['instances'].pred_masks[1].cpu().numpy().reshape(-1)"
   ]
  },
  {
   "cell_type": "code",
   "execution_count": 34,
   "id": "965e6c69",
   "metadata": {},
   "outputs": [
    {
     "data": {
      "text/plain": [
       "(318888, 318888)"
      ]
     },
     "execution_count": 34,
     "metadata": {},
     "output_type": "execute_result"
    }
   ],
   "source": [
    "len(lbl), len(target)"
   ]
  },
  {
   "cell_type": "code",
   "execution_count": 22,
   "id": "4955e19c",
   "metadata": {},
   "outputs": [
    {
     "name": "stdout",
     "output_type": "stream",
     "text": [
      "1.0\n"
     ]
    }
   ],
   "source": [
    "from sklearn.metrics import jaccard_score as jsc\n",
    "print(jsc(target,lbl))"
   ]
  },
  {
   "cell_type": "code",
   "execution_count": 29,
   "id": "45fd5818",
   "metadata": {},
   "outputs": [
    {
     "data": {
      "text/plain": [
       "(1109, 359)"
      ]
     },
     "execution_count": 29,
     "metadata": {},
     "output_type": "execute_result"
    }
   ],
   "source": [
    "lbl.sum(), target.sum()"
   ]
  },
  {
   "cell_type": "code",
   "execution_count": 32,
   "id": "a117b5d0",
   "metadata": {},
   "outputs": [
    {
     "data": {
      "text/plain": [
       "1109"
      ]
     },
     "execution_count": 32,
     "metadata": {},
     "output_type": "execute_result"
    }
   ],
   "source": [
    "import numpy as np\n",
    "c = np.logical_and(lbl, lbl)\n",
    "c.sum()"
   ]
  },
  {
   "cell_type": "code",
   "execution_count": null,
   "id": "c741caee",
   "metadata": {},
   "outputs": [],
   "source": []
  },
  {
   "cell_type": "code",
   "execution_count": null,
   "id": "6dc5e532",
   "metadata": {},
   "outputs": [],
   "source": []
  },
  {
   "cell_type": "code",
   "execution_count": null,
   "id": "32c42212",
   "metadata": {},
   "outputs": [],
   "source": []
  },
  {
   "cell_type": "code",
   "execution_count": null,
   "id": "565a731c",
   "metadata": {},
   "outputs": [],
   "source": []
  },
  {
   "cell_type": "code",
   "execution_count": null,
   "id": "82d07261",
   "metadata": {},
   "outputs": [],
   "source": []
  },
  {
   "cell_type": "markdown",
   "id": "dbd27858",
   "metadata": {},
   "source": [
    "Other params:\n",
    "\n",
    "face_foregroun_background_res: OpenCV Grayscale (3-channel) Mask (618, 516, 3)\n",
    "\n",
    "background_check_result: {\"status\": status, \"remarks\": remarks}\n",
    "\n",
    "face_highlight_res: {\"res_img_cv\": v.get_image()[:, :, ::-1], \"res_highlight_mask\": bin_mask}\n",
    "    bin_mask: np.zeros((h, w)) (618, 516)"
   ]
  },
  {
   "cell_type": "markdown",
   "id": "d0cb179e",
   "metadata": {},
   "source": [
    "If ```background_check_result[\"status\"] == 0``` means background not white => use face_foregroun_background_res to remove all instances in background"
   ]
  },
  {
   "cell_type": "code",
   "execution_count": null,
   "id": "7e1d7337",
   "metadata": {},
   "outputs": [],
   "source": []
  },
  {
   "cell_type": "code",
   "execution_count": null,
   "id": "629846f0",
   "metadata": {},
   "outputs": [],
   "source": []
  },
  {
   "cell_type": "code",
   "execution_count": null,
   "id": "74a7d284",
   "metadata": {},
   "outputs": [],
   "source": []
  },
  {
   "cell_type": "code",
   "execution_count": 36,
   "id": "20fee7a5",
   "metadata": {},
   "outputs": [],
   "source": [
    "idxofClass = [i for i, x in enumerate(list(output['instances'].pred_classes)) if x == 0]"
   ]
  },
  {
   "cell_type": "code",
   "execution_count": 37,
   "id": "2a0ec0d0",
   "metadata": {},
   "outputs": [
    {
     "data": {
      "text/plain": [
       "[1]"
      ]
     },
     "execution_count": 37,
     "metadata": {},
     "output_type": "execute_result"
    }
   ],
   "source": [
    "idxofClass"
   ]
  },
  {
   "cell_type": "code",
   "execution_count": null,
   "id": "fdf3d879",
   "metadata": {},
   "outputs": [],
   "source": [
    "classes = o.pred_classes[idxofClass]\n",
    "scores = o.scores[idxofClass]\n",
    "boxes = o.pred_boxes[idxofClass]\n",
    "masks = o.pred_masks[idxofClass]"
   ]
  },
  {
   "cell_type": "code",
   "execution_count": null,
   "id": "69c5df12",
   "metadata": {},
   "outputs": [],
   "source": [
    "obj = detectron2.structures.Instances(image_size=(480, 640))\n",
    "\n",
    "obj.set('pred_classes', classes)\n",
    "obj.set('scores', scores)\n",
    "obj.set('pred_boxes', boxes)\n",
    "obj.set('pred_masks', masks)"
   ]
  },
  {
   "cell_type": "code",
   "execution_count": null,
   "id": "6c0dc4db",
   "metadata": {},
   "outputs": [],
   "source": [
    "out = v.draw_instance_predictions(obj.to(\"cpu\"))"
   ]
  },
  {
   "cell_type": "code",
   "execution_count": null,
   "id": "b1758bcd",
   "metadata": {},
   "outputs": [],
   "source": []
  },
  {
   "cell_type": "markdown",
   "id": "5a0b811d",
   "metadata": {},
   "source": [
    "Use instances in face_highlight_res[\"res_highlight_mask\"] to remove instances that have overlap"
   ]
  },
  {
   "cell_type": "code",
   "execution_count": null,
   "id": "89c008cd",
   "metadata": {},
   "outputs": [],
   "source": []
  },
  {
   "cell_type": "code",
   "execution_count": null,
   "id": "7d86f6ad",
   "metadata": {},
   "outputs": [],
   "source": []
  },
  {
   "cell_type": "code",
   "execution_count": null,
   "id": "9754badd",
   "metadata": {},
   "outputs": [],
   "source": []
  },
  {
   "cell_type": "code",
   "execution_count": null,
   "id": "3a597909",
   "metadata": {},
   "outputs": [],
   "source": []
  },
  {
   "cell_type": "code",
   "execution_count": null,
   "id": "98c3a404",
   "metadata": {},
   "outputs": [],
   "source": []
  },
  {
   "cell_type": "code",
   "execution_count": null,
   "id": "b2d45745",
   "metadata": {},
   "outputs": [],
   "source": []
  },
  {
   "cell_type": "code",
   "execution_count": null,
   "id": "76101beb",
   "metadata": {},
   "outputs": [],
   "source": []
  },
  {
   "cell_type": "code",
   "execution_count": null,
   "id": "b22b9ab7",
   "metadata": {},
   "outputs": [],
   "source": []
  },
  {
   "cell_type": "code",
   "execution_count": null,
   "id": "92cb01f9",
   "metadata": {},
   "outputs": [],
   "source": [
    "v = Visualizer(im[:, :, ::-1],\n",
    "                metadata=watermarks_metadata,\n",
    "                scale=1,\n",
    "                instance_mode=ColorMode.IMAGE_BW  # remove the colors of unsegmented pixels\n",
    "                )\n",
    "v = v.draw_instance_predictions(output[\"instances\"].to(\"cpu\"))\n",
    "\n",
    "cv2.imshow(\"Watermark Check\", cv2.cvtColor(v.get_image()[:, :, ::-1], cv2.COLOR_BGR2RGB))\n",
    "cv2.waitKey(0)"
   ]
  },
  {
   "cell_type": "code",
   "execution_count": null,
   "id": "81c74fb7",
   "metadata": {},
   "outputs": [],
   "source": []
  },
  {
   "cell_type": "code",
   "execution_count": null,
   "id": "3728d4b7",
   "metadata": {},
   "outputs": [],
   "source": []
  },
  {
   "cell_type": "code",
   "execution_count": null,
   "id": "c785afd0",
   "metadata": {},
   "outputs": [],
   "source": []
  }
 ],
 "metadata": {
  "kernelspec": {
   "display_name": "watermark",
   "language": "python",
   "name": "watermark"
  },
  "language_info": {
   "codemirror_mode": {
    "name": "ipython",
    "version": 3
   },
   "file_extension": ".py",
   "mimetype": "text/x-python",
   "name": "python",
   "nbconvert_exporter": "python",
   "pygments_lexer": "ipython3",
   "version": "3.8.10"
  }
 },
 "nbformat": 4,
 "nbformat_minor": 5
}
